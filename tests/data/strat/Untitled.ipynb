{
 "cells": [
  {
   "cell_type": "code",
   "execution_count": 1,
   "metadata": {},
   "outputs": [],
   "source": [
    "import numpy as np"
   ]
  },
  {
   "cell_type": "code",
   "execution_count": 2,
   "metadata": {},
   "outputs": [],
   "source": [
    "dd = np.load('sed15Ma.npz')"
   ]
  },
  {
   "cell_type": "code",
   "execution_count": 10,
   "metadata": {},
   "outputs": [],
   "source": [
    "shape = dd['strataH'].shape"
   ]
  },
  {
   "cell_type": "code",
   "execution_count": 16,
   "metadata": {},
   "outputs": [],
   "source": [
    "H = dd['strataH']\n",
    "Fperc = dd['strataF']\n",
    "Z = dd['strataZ']\n",
    "Sphi = dd['phiS']\n",
    "Fphi = dd['phiF']\n",
    "Wperc = np.zeros(shape)\n",
    "Wphi = np.zeros(shape)"
   ]
  },
  {
   "cell_type": "code",
   "execution_count": 15,
   "metadata": {},
   "outputs": [
    {
     "data": {
      "text/plain": [
       "array([[0.00000000e+00, 5.25290667e-12],\n",
       "       [0.00000000e+00, 5.25290667e-12],\n",
       "       [0.00000000e+00, 5.25290667e-12],\n",
       "       ...,\n",
       "       [0.00000000e+00, 5.25290667e-12],\n",
       "       [0.00000000e+00, 5.25290667e-12],\n",
       "       [0.00000000e+00, 5.25290667e-12]])"
      ]
     },
     "execution_count": 15,
     "metadata": {},
     "output_type": "execute_result"
    }
   ],
   "source": [
    "dd['phiF']"
   ]
  },
  {
   "cell_type": "code",
   "execution_count": null,
   "metadata": {},
   "outputs": [],
   "source": []
  },
  {
   "cell_type": "code",
   "execution_count": 19,
   "metadata": {},
   "outputs": [],
   "source": [
    "# Save the stratigraphic mesh as a Numpy file...\n",
    "np.savez_compressed('sed15Ma', strataH=H, strataF=Fperc, strataW=Wperc, strataZ=Z, \n",
    "                    phiF=Fphi, phiS=Sphi, phiW=Wphi)"
   ]
  },
  {
   "cell_type": "code",
   "execution_count": 18,
   "metadata": {},
   "outputs": [],
   "source": [
    "\n",
    "np.savez_compressed('/live/lib/gospl/tests/data/strat/sed15Ma', strataH=H, strataF=Fperc, strataW=Wperc, strataZ=Z, \n",
    "                    phiF=Fphi, phiS=Sphi, phiW=Wphi)"
   ]
  },
  {
   "cell_type": "code",
   "execution_count": null,
   "metadata": {},
   "outputs": [],
   "source": []
  }
 ],
 "metadata": {
  "kernelspec": {
   "display_name": "Python 3",
   "language": "python",
   "name": "python3"
  },
  "language_info": {
   "codemirror_mode": {
    "name": "ipython",
    "version": 3
   },
   "file_extension": ".py",
   "mimetype": "text/x-python",
   "name": "python",
   "nbconvert_exporter": "python",
   "pygments_lexer": "ipython3",
   "version": "3.7.3"
  }
 },
 "nbformat": 4,
 "nbformat_minor": 4
}
