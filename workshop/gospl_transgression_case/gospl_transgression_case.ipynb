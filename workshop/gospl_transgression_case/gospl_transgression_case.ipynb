{
 "cells": [
  {
   "cell_type": "code",
   "execution_count": 1,
   "id": "19f84736-5e39-4289-a351-102f1cd55e66",
   "metadata": {},
   "outputs": [],
   "source": [
    "# ✅ 环境准备\n",
    "# jupyter notebook 修改为 gospl\n",
    "# 导入必要库（如 numpy, xarray, gospl）\n",
    "# config.yml 文件的准备;\n",
    "# domain.npz 是你的数据文件\n",
    "\n",
    "# 其中字段应为：\n",
    "\n",
    "# nodes（节点坐标）\n",
    "\n",
    "# triangles（连接信息）\n",
    "\n",
    "# elevation（初始高程）"
   ]
  },
  {
   "cell_type": "code",
   "execution_count": 2,
   "id": "4bddf430-2953-4938-afb3-0c76a6290ac3",
   "metadata": {},
   "outputs": [],
   "source": [
    "# 🌍 生成网格文件 domain.npz\n",
    "# 使用 nodes, triangles, active, elevation\n",
    "\n",
    "# 字段结构与 config.yml 一致（npdata: [domain, nodes, triangles, elevation]）"
   ]
  },
  {
   "cell_type": "code",
   "execution_count": 3,
   "id": "017ebd62-39f3-42b4-b45f-9c54707492d7",
   "metadata": {},
   "outputs": [
    {
     "name": "stdout",
     "output_type": "stream",
     "text": [
      "✅ domain.npz 生成完成\n"
     ]
    }
   ],
   "source": [
    "import numpy as np\n",
    "\n",
    "nodes = np.array([\n",
    "    [0.0, 0.0],\n",
    "    [1.0, 0.0],\n",
    "    [1.0, 1.0],\n",
    "    [0.0, 1.0]\n",
    "])\n",
    "\n",
    "triangles = np.array([\n",
    "    [0, 1, 2],\n",
    "    [0, 2, 3]\n",
    "])\n",
    "\n",
    "active = np.array([True, True])\n",
    "elevation = np.array([0.0, 0.1, 0.2, 0.1])\n",
    "\n",
    "np.savez(\"domain.npz\", nodes=nodes, c=triangles, active=active, elevation=elevation)\n",
    "print(\"✅ domain.npz 生成完成\")\n"
   ]
  },
  {
   "cell_type": "code",
   "execution_count": 4,
   "id": "8fc7c36e-a85e-4f21-b923-b9fad5b9fce3",
   "metadata": {},
   "outputs": [
    {
     "name": "stdout",
     "output_type": "stream",
     "text": [
      "✅ 生成的 domain.npz 文件字段: \n",
      "['nodes', 'c', 'active', 'elevation']\n"
     ]
    }
   ],
   "source": [
    "# 🧪 检查 .npz 文件字段（验证方法）\n",
    "import numpy as np\n",
    "data = np.load(\"domain.npz\")\n",
    "print(\"✅ 生成的 domain.npz 文件字段: \")\n",
    "print(data.files)"
   ]
  },
  {
   "cell_type": "code",
   "execution_count": 5,
   "id": "ae438ed3-67d1-4036-a34f-6b08272e4d5c",
   "metadata": {},
   "outputs": [],
   "source": [
    "# 🏔️ 创建初始地形 topo_initial.nc\n",
    "# 倾斜式高程，模拟海陆过渡"
   ]
  },
  {
   "cell_type": "code",
   "execution_count": 6,
   "id": "b0bd8156-b13e-4a4e-be62-0893720a7fab",
   "metadata": {},
   "outputs": [
    {
     "name": "stdout",
     "output_type": "stream",
     "text": [
      "✅ topo_initial.nc 生成完成\n"
     ]
    }
   ],
   "source": [
    "# gen_topo_initial.py\n",
    "import numpy as np\n",
    "import xarray as xr\n",
    "\n",
    "nx, ny = 200, 100\n",
    "dx, dy = 500, 500\n",
    "\n",
    "x = np.arange(nx) * dx\n",
    "y = np.arange(ny) * dy\n",
    "X, Y = np.meshgrid(x, y, indexing='ij')\n",
    "\n",
    "# 简单倾斜地形（模拟大陆到海盆过渡）\n",
    "Z = 100 - (X / (nx * dx)) * 150  # 从 +100m 降至 -50m\n",
    "\n",
    "ds = xr.Dataset(\n",
    "    {\"topography\": ((\"x\", \"y\"), Z)},\n",
    "    coords={\"x\": x, \"y\": y}\n",
    ")\n",
    "ds.to_netcdf(\"topo_initial.nc\")\n",
    "print(\"✅ topo_initial.nc 生成完成\")\n"
   ]
  },
  {
   "cell_type": "code",
   "execution_count": 7,
   "id": "6807ea94-4cb5-4052-8fe1-c3ea0e069ec0",
   "metadata": {},
   "outputs": [],
   "source": [
    "# 🏗️ 创建隆升场 uplift.nc\n",
    "# 全零，代表稳定的构造背景"
   ]
  },
  {
   "cell_type": "code",
   "execution_count": 8,
   "id": "3b9bfeb9-e0a1-4a19-b39a-d41385f821ec",
   "metadata": {},
   "outputs": [
    {
     "name": "stdout",
     "output_type": "stream",
     "text": [
      "✅ uplift.nc 生成完成\n"
     ]
    }
   ],
   "source": [
    "# gen_uplift.py\n",
    "import numpy as np\n",
    "import xarray as xr\n",
    "\n",
    "nx, ny = 200, 100\n",
    "dx, dy = 500, 500\n",
    "\n",
    "x = np.arange(nx) * dx\n",
    "y = np.arange(ny) * dy\n",
    "uplift = np.zeros((nx, ny))  # 海侵环境中地壳稳定为主\n",
    "\n",
    "ds = xr.Dataset(\n",
    "    {\"uplift\": ((\"x\", \"y\"), uplift)},\n",
    "    coords={\"x\": x, \"y\": y}\n",
    ")\n",
    "ds.to_netcdf(\"uplift.nc\")\n",
    "print(\"✅ uplift.nc 生成完成\")"
   ]
  },
  {
   "cell_type": "code",
   "execution_count": 9,
   "id": "60cdc10e-5d94-43a0-ad65-2dbab20486d5",
   "metadata": {},
   "outputs": [
    {
     "name": "stdout",
     "output_type": "stream",
     "text": [
      "字段: ['nodes', 'c', 'active', 'elevation']\n",
      "coords (nodes): (4, 2)\n",
      "connect (c): (2, 3)\n",
      "elevation: (4,)\n"
     ]
    }
   ],
   "source": [
    "import numpy as np\n",
    "\n",
    "data = np.load(\"domain.npz\")\n",
    "print(\"字段:\", data.files)\n",
    "\n",
    "print(\"coords (nodes):\", data[\"nodes\"].shape)\n",
    "print(\"connect (c):\", data[\"c\"].shape)\n",
    "print(\"elevation:\", data[\"elevation\"].shape)"
   ]
  },
  {
   "cell_type": "code",
   "execution_count": 10,
   "id": "ad0600b0-a11b-4984-a95c-f307674ded4e",
   "metadata": {},
   "outputs": [],
   "source": [
    "# ▶️ 运行模拟 run_gospl.py"
   ]
  },
  {
   "cell_type": "code",
   "execution_count": 11,
   "id": "738d2506-db19-4fda-af47-e0348d394810",
   "metadata": {},
   "outputs": [
    {
     "name": "stdout",
     "output_type": "stream",
     "text": [
      ">> 正在加载 config.yml 并运行 GOSPL 模拟...\n",
      "Output time interval 'tout' has been set to 500000 years\n"
     ]
    },
    {
     "ename": "KeyError",
     "evalue": "'triangles is not a file in the archive'",
     "output_type": "error",
     "traceback": [
      "\u001b[31m---------------------------------------------------------------------------\u001b[39m",
      "\u001b[31mKeyError\u001b[39m                                  Traceback (most recent call last)",
      "\u001b[36mCell\u001b[39m\u001b[36m \u001b[39m\u001b[32mIn[11]\u001b[39m\u001b[32m, line 4\u001b[39m\n\u001b[32m      1\u001b[39m \u001b[38;5;28;01mfrom\u001b[39;00m\u001b[38;5;250m \u001b[39m\u001b[34;01mgospl\u001b[39;00m\u001b[34;01m.\u001b[39;00m\u001b[34;01mmodel\u001b[39;00m\u001b[38;5;250m \u001b[39m\u001b[38;5;28;01mimport\u001b[39;00m Model\n\u001b[32m      3\u001b[39m \u001b[38;5;28mprint\u001b[39m(\u001b[33m\"\u001b[39m\u001b[33m>> 正在加载 config.yml 并运行 GOSPL 模拟...\u001b[39m\u001b[33m\"\u001b[39m)\n\u001b[32m----> \u001b[39m\u001b[32m4\u001b[39m model = \u001b[43mModel\u001b[49m\u001b[43m(\u001b[49m\u001b[33;43m\"\u001b[39;49m\u001b[33;43mconfig.yml\u001b[39;49m\u001b[33;43m\"\u001b[39;49m\u001b[43m)\u001b[49m\n\u001b[32m      5\u001b[39m \u001b[38;5;66;03m# model.run()\u001b[39;00m\n\u001b[32m      6\u001b[39m \u001b[38;5;28mprint\u001b[39m(\u001b[33m\"\u001b[39m\u001b[33m✅ 示例成功运行!\u001b[39m\u001b[33m\"\u001b[39m)\n",
      "\u001b[36mFile \u001b[39m\u001b[32m~/miniforge3/envs/gospl/lib/python3.11/site-packages/gospl/model.py:115\u001b[39m, in \u001b[36mModel.__init__\u001b[39m\u001b[34m(self, filename, verbose, showlog, *args, **kwargs)\u001b[39m\n\u001b[32m    112\u001b[39m _VoroBuild.\u001b[34m__init__\u001b[39m(\u001b[38;5;28mself\u001b[39m)\n\u001b[32m    114\u001b[39m \u001b[38;5;66;03m# Define unstructured mesh\u001b[39;00m\n\u001b[32m--> \u001b[39m\u001b[32m115\u001b[39m \u001b[43m_UnstMesh\u001b[49m\u001b[43m.\u001b[49m\u001b[34;43m__init__\u001b[39;49m\u001b[43m(\u001b[49m\u001b[38;5;28;43mself\u001b[39;49m\u001b[43m)\u001b[49m\n\u001b[32m    117\u001b[39m \u001b[38;5;66;03m# Initialise output mesh\u001b[39;00m\n\u001b[32m    118\u001b[39m _WriteMesh.\u001b[34m__init__\u001b[39m(\u001b[38;5;28mself\u001b[39m)\n",
      "\u001b[36mFile \u001b[39m\u001b[32m~/miniforge3/envs/gospl/lib/python3.11/site-packages/gospl/mesher/unstructuredmesh.py:63\u001b[39m, in \u001b[36mUnstMesh.__init__\u001b[39m\u001b[34m(self)\u001b[39m\n\u001b[32m     60\u001b[39m \u001b[38;5;28mself\u001b[39m.southPts = \u001b[38;5;28;01mNone\u001b[39;00m\n\u001b[32m     62\u001b[39m \u001b[38;5;66;03m# Let us define the mesh variables and build PETSc DMPLEX.\u001b[39;00m\n\u001b[32m---> \u001b[39m\u001b[32m63\u001b[39m \u001b[38;5;28;43mself\u001b[39;49m\u001b[43m.\u001b[49m\u001b[43m_buildMesh\u001b[49m\u001b[43m(\u001b[49m\u001b[43m)\u001b[49m\n\u001b[32m     65\u001b[39m \u001b[38;5;28;01mreturn\u001b[39;00m\n",
      "\u001b[36mFile \u001b[39m\u001b[32m~/miniforge3/envs/gospl/lib/python3.11/site-packages/gospl/mesher/unstructuredmesh.py:283\u001b[39m, in \u001b[36mUnstMesh._buildMesh\u001b[39m\u001b[34m(self)\u001b[39m\n\u001b[32m    281\u001b[39m \u001b[38;5;28mself\u001b[39m.mpoints = \u001b[38;5;28mlen\u001b[39m(\u001b[38;5;28mself\u001b[39m.mCoords)\n\u001b[32m    282\u001b[39m gZ = loadData[\u001b[38;5;28mself\u001b[39m.infoElev]\n\u001b[32m--> \u001b[39m\u001b[32m283\u001b[39m mCells = \u001b[43mloadData\u001b[49m\u001b[43m[\u001b[49m\u001b[38;5;28;43mself\u001b[39;49m\u001b[43m.\u001b[49m\u001b[43minfoCells\u001b[49m\u001b[43m]\u001b[49m.astype(\u001b[38;5;28mint\u001b[39m)\n\u001b[32m    285\u001b[39m \u001b[38;5;66;03m# Get global mesh vertex neighbors\u001b[39;00m\n\u001b[32m    286\u001b[39m \u001b[38;5;28;01mif\u001b[39;00m MPIrank == \u001b[32m0\u001b[39m:\n",
      "\u001b[36mFile \u001b[39m\u001b[32m~/miniforge3/envs/gospl/lib/python3.11/site-packages/numpy/lib/npyio.py:260\u001b[39m, in \u001b[36mNpzFile.__getitem__\u001b[39m\u001b[34m(self, key)\u001b[39m\n\u001b[32m    258\u001b[39m         \u001b[38;5;28;01mreturn\u001b[39;00m \u001b[38;5;28mself\u001b[39m.zip.read(key)\n\u001b[32m    259\u001b[39m \u001b[38;5;28;01melse\u001b[39;00m:\n\u001b[32m--> \u001b[39m\u001b[32m260\u001b[39m     \u001b[38;5;28;01mraise\u001b[39;00m \u001b[38;5;167;01mKeyError\u001b[39;00m(\u001b[33m\"\u001b[39m\u001b[38;5;132;01m%s\u001b[39;00m\u001b[33m is not a file in the archive\u001b[39m\u001b[33m\"\u001b[39m % key)\n",
      "\u001b[31mKeyError\u001b[39m: 'triangles is not a file in the archive'"
     ]
    }
   ],
   "source": [
    "from gospl.model import Model\n",
    "\n",
    "print(\">> 正在加载 config.yml 并运行 GOSPL 模拟...\")\n",
    "model = Model(\"config.yml\")\n",
    "# model.run()\n",
    "print(\"✅ 示例成功运行!\")"
   ]
  },
  {
   "cell_type": "code",
   "execution_count": null,
   "id": "35965a98-b90b-499e-b8be-33f95d4dca16",
   "metadata": {},
   "outputs": [],
   "source": []
  }
 ],
 "metadata": {
  "kernelspec": {
   "display_name": "Python (gospl)",
   "language": "python",
   "name": "gospl"
  },
  "language_info": {
   "codemirror_mode": {
    "name": "ipython",
    "version": 3
   },
   "file_extension": ".py",
   "mimetype": "text/x-python",
   "name": "python",
   "nbconvert_exporter": "python",
   "pygments_lexer": "ipython3",
   "version": "3.11.13"
  }
 },
 "nbformat": 4,
 "nbformat_minor": 5
}
